{
 "cells": [
  {
   "cell_type": "code",
   "execution_count": null,
   "id": "9cfba173",
   "metadata": {},
   "outputs": [],
   "source": [
    "import pandas as pd\n",
    "\n",
    "#データの読み込み\n",
    "url = \"https://www.city.bunkyo.lg.jp/library/opendata-bunkyo/02kosodate-kyouiku/02hoikuen/hoikuen.csv\"\n",
    "df = pd.read_csv(url, encoding=\"shift_jis\")\n",
    "data = df.loc[:, [\"施設名\", \"郵便番号\", \"住所\", \"電話番号\"]]\n",
    "\n",
    "#読み込みデータを書き込むための新規Excelファイルを作成\n",
    "file = open(\"保育園一覧.xlsx\", \"wb\")\n",
    "\n",
    "#Excelファイルに出力\n",
    "with pd.ExcelWriter(file) as writer :\n",
    "    data.to_excel(writer, index=False, sheet_name=\"一覧\")"
   ]
  }
 ],
 "metadata": {
  "kernelspec": {
   "display_name": "Python 3 (ipykernel)",
   "language": "python",
   "name": "python3"
  },
  "language_info": {
   "codemirror_mode": {
    "name": "ipython",
    "version": 3
   },
   "file_extension": ".py",
   "mimetype": "text/x-python",
   "name": "python",
   "nbconvert_exporter": "python",
   "pygments_lexer": "ipython3",
   "version": "3.9.13"
  }
 },
 "nbformat": 4,
 "nbformat_minor": 5
}
