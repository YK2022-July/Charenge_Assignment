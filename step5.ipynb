{
 "cells": [
  {
   "cell_type": "code",
   "execution_count": null,
   "id": "aeb00a1b",
   "metadata": {},
   "outputs": [],
   "source": [
    "import win32com.client\n",
    "\n",
    "#Excelの起動\n",
    "excel = win32com.client.Dispatch(\"Excel.Application\")\n",
    "excel.Visible = True\n",
    "#ブックを開く\n",
    "book = excel.Workbooks.Open(\"C:\\\\Users\\\\Owner\\\\保育園情報【文京区】.xlsx\")\n",
    "#シートを選択する\n",
    "sheet = book.WorkSheets(\"施設情報_関数\")\n",
    "sheet.Select()\n",
    "#検索キー（施設名）を入力する\n",
    "search_key = str(input(\"施設名を入力してください：\"))\n",
    "sheet.Range(\"B4\").Value = search_key\n",
    "#PDFで出力する\n",
    "sheet.ExportAsFixedFormat(Type=0, Filename=\"C:\\\\Users\\\\Owner\\\\\" + search_key + \".pdf\")"
   ]
  }
 ],
 "metadata": {
  "kernelspec": {
   "display_name": "Python 3 (ipykernel)",
   "language": "python",
   "name": "python3"
  },
  "language_info": {
   "codemirror_mode": {
    "name": "ipython",
    "version": 3
   },
   "file_extension": ".py",
   "mimetype": "text/x-python",
   "name": "python",
   "nbconvert_exporter": "python",
   "pygments_lexer": "ipython3",
   "version": "3.9.13"
  }
 },
 "nbformat": 4,
 "nbformat_minor": 5
}
